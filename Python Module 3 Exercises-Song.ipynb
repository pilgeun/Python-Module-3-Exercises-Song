{
 "cells": [
  {
   "cell_type": "markdown",
   "metadata": {},
   "source": [
    "Exercise 1. Ask for a color and store that answer. \n",
    "If the answer is grey then print out you found Victor's favorite color.\n",
    "Otherwise print out the color is not Victor's favorite color."
   ]
  },
  {
   "cell_type": "code",
   "execution_count": 7,
   "metadata": {},
   "outputs": [
    {
     "name": "stdout",
     "output_type": "stream",
     "text": [
      "Color: GRAY\n",
      "You found Victor's favorite color!\n"
     ]
    }
   ],
   "source": [
    "# if/else\n",
    "color = input(\"Color: \")\n",
    "color = color.lower()\n",
    "\n",
    "if (color == 'grey' or color == 'gray'):\n",
    "    print(\"You found Victor's favorite color!\")\n",
    "    \n",
    "else:\n",
    "    print(\"That's not Victor's favorite color.\")"
   ]
  },
  {
   "cell_type": "markdown",
   "metadata": {},
   "source": [
    "Exercise 2. Modify code from above exercise 1 and add in more conditions for other colors such as red, green, blue and then, write statements for them. "
   ]
  },
  {
   "cell_type": "code",
   "execution_count": 2,
   "metadata": {},
   "outputs": [
    {
     "name": "stdout",
     "output_type": "stream",
     "text": [
      "Color: gREEn\n",
      "Green is not a creative color.\n"
     ]
    }
   ],
   "source": [
    "# elif\n",
    "color = input(\"Color: \")\n",
    "color = color.lower()\n",
    "\n",
    "if (color == 'grey' or color == 'gray'):\n",
    "    print(\"You found Victor's favorite color!\")\n",
    "    \n",
    "elif (color == 'red'):\n",
    "    print(\"The color of desire!\")\n",
    "    \n",
    "elif (color == 'green'):\n",
    "    print(\"Green is not a creative color.\")\n",
    "    \n",
    "elif (color == 'blue'):\n",
    "    print(\"Listen up, here's the story about a little guy that lives in a blue world...\")\n",
    "    \n",
    "else:\n",
    "    print(\"What color is that?\")\n",
    "    "
   ]
  },
  {
   "cell_type": "markdown",
   "metadata": {},
   "source": [
    "Exercise 3. Ask for an exam score and store that number. If the number is greater than 100, then print out 'You cannot have an exam score higher than 100'. If the number doesn't exceeed 100 but is greater than or equal to 75, then print out 'You did great on your exam!'. Otherwise if they scored lower than 75, then print out 'You need to study harder'."
   ]
  },
  {
   "cell_type": "code",
   "execution_count": 35,
   "metadata": {},
   "outputs": [
    {
     "name": "stdout",
     "output_type": "stream",
     "text": [
      "What was your exam score? 74.99\n",
      "You need to study harder\n"
     ]
    }
   ],
   "source": [
    "exam_score = float(input(\"What was your exam score? \"))\n",
    "\n",
    "if (exam_score > 100):\n",
    "    print('You cannot have an exam score higher than 100')\n",
    "    \n",
    "elif (exam_score >= 75):\n",
    "    print('You did great on your exam!')\n",
    "    \n",
    "else:\n",
    "    print('You need to study harder')\n",
    "    "
   ]
  },
  {
   "cell_type": "markdown",
   "metadata": {},
   "source": [
    "Exercise 4. \n",
    "Define two functions: \n",
    "    - a function that takes 3 arguements and returns the sum of three arguements\n",
    "    - a function that takes 2 arguements and returns the result of 1st arguement multiplied by 2nd arguement\n",
    "\n",
    "Then tell the user to choose option 1 to add three numbers or option 2 to multiply two numbers.\n",
    "If the user choose option 1 then call the addition function, otherwise if they choose option 2 then call the mulitplication function.  If the user choose anything other than option 1 or 2, then generate a friendly error messsage"
   ]
  },
  {
   "cell_type": "code",
   "execution_count": 3,
   "metadata": {},
   "outputs": [
    {
     "name": "stdout",
     "output_type": "stream",
     "text": [
      "(Option 1 will add three numbers. Option 2 will multiply two numbers)\n",
      "Choose option 1 or 2: 1\n",
      "#1: 3\n",
      "#2: 2\n",
      "#3: 5\n",
      "10.0\n"
     ]
    }
   ],
   "source": [
    "def add_three(n1, n2, n3):\n",
    "    print(n1 + n2 + n3)\n",
    "    \n",
    "def multiply_two(n1, n2):\n",
    "    print(n1 * n2)\n",
    "    \n",
    "print(\"(Option 1 will add three numbers. Option 2 will multiply two numbers)\")\n",
    "option = input(\"Choose option 1 or 2: \")\n",
    "    \n",
    "if (option == '1'):\n",
    "    n1 = float(input('#1: '))\n",
    "    n2 = float(input('#2: '))\n",
    "    n3 = float(input('#3: '))\n",
    "    add_three(n1, n2, n3)\n",
    "    \n",
    "elif (option == '2'):\n",
    "    n1 = float(input('#1: '))\n",
    "    n2 = float(input('#2: '))\n",
    "    multiply_two(n1, n2)\n",
    "    \n",
    "else:\n",
    "    print('Please select 1 or 2')"
   ]
  },
  {
   "cell_type": "markdown",
   "metadata": {},
   "source": [
    "Exercise 5. \n",
    "Write a function to convert a test score to a grade where  \n",
    " - 90 - 100: A\n",
    " - 80 - 89:  B\n",
    " - 70 - 79:  C\n",
    " - 60 - 69:  D\n",
    " - < 60   :  F\n",
    " \n",
    "If a score is not between 0 and 100 then print out an error message. In the program, ask the user for a score and then call your function. "
   ]
  },
  {
   "cell_type": "code",
   "execution_count": 12,
   "metadata": {},
   "outputs": [
    {
     "name": "stdout",
     "output_type": "stream",
     "text": [
      "Please enter your test score (0-100):\n",
      "> -1\n",
      "Invalid.\n",
      "Please enter your test score (0-100):\n",
      "> 101\n",
      "Invalid.\n",
      "Please enter your test score (0-100):\n",
      "> 89\n",
      "B\n"
     ]
    }
   ],
   "source": [
    "def grade(score):\n",
    "    if score < 60:\n",
    "        print(\"F\") \n",
    "        \n",
    "    elif score >= 60 and score <= 69:\n",
    "        print(\"D\")\n",
    "\n",
    "    elif score >= 70 and score <= 79: \n",
    "        print(\"C\")\n",
    "    \n",
    "    elif score >= 80 and score <= 89:\n",
    "        print(\"B\")\n",
    "    \n",
    "    elif score >= 90 and score <= 100:\n",
    "        print(\"A\")\n",
    "        \n",
    "test_score = -1\n",
    "        \n",
    "while test_score < 0 or test_score > 100:\n",
    "    print('Please enter your test score (0-100):')\n",
    "    test_score = int(input(\"> \"))\n",
    "\n",
    "    if test_score < 0 or test_score > 100:\n",
    "        print(\"Invalid.\")\n",
    "    \n",
    "    else:\n",
    "        grade(test_score)\n"
   ]
  },
  {
   "cell_type": "markdown",
   "metadata": {},
   "source": [
    "Exercise 6. Write a program to compute discounts for customers.  \n",
    "- For retail customers, \n",
    "    - if invoice total is greater than \\$100 then discount rate is 10\\%, otherwise no discount \n",
    "\n",
    "- For wholesale customers,\n",
    "    - if invoice total is greater than \\$500 then discount rate is 30\\%, otherwise discount rate is 20\\%\n",
    "    \n",
    "Get the type of customer and the invoice total from the user."
   ]
  },
  {
   "cell_type": "code",
   "execution_count": 181,
   "metadata": {},
   "outputs": [
    {
     "name": "stdout",
     "output_type": "stream",
     "text": [
      "Customer Type:\tW\n",
      "Invoice:\t$425\n",
      "Discount:\t$85.00\n",
      "Total: \t\t$340.00\n"
     ]
    }
   ],
   "source": [
    "def retail(subtotal):\n",
    "    if subtotal > 100:\n",
    "        discount = 0.10*subtotal      \n",
    "    else :\n",
    "        discount = 0\n",
    "    return discount\n",
    "    \n",
    "def wholesale(subtotal):\n",
    "    if subtotal > 500:\n",
    "        discount = 0.30*subtotal         \n",
    "    else :\n",
    "        discount = 0.20*subtotal \n",
    "    return discount\n",
    "\n",
    "customer = input(\"Customer Type:\\t\")    \n",
    "invoice = float(input(\"Invoice:\\t$\" ))\n",
    "\n",
    "if customer.lower() == 'retail' or customer.lower() == 'r': \n",
    "    discount = round(retail(invoice), 2)\n",
    "\n",
    "elif customer.lower == 'wholesale' or customer.lower() == 'w':\n",
    "    discount = round(wholesale(invoice), 2)\n",
    "    \n",
    "print(f\"Discount:\\t${discount :.2f}\")\n",
    "print(f\"Total: \\t\\t${invoice-discount :.2f}\")\n"
   ]
  },
  {
   "cell_type": "markdown",
   "metadata": {},
   "source": [
    "Exercise 7: Write a function that accepts two parameters (a and b) and returns a result of a/b.  In this function, try to catch any exception error.  Then, write a program to get two numbers from a user, call your function using these two numbers, and print out the result in a friendly format.  All input and print statements must be done in the main program. Repeat the process until user wants to quit the program. "
   ]
  },
  {
   "cell_type": "code",
   "execution_count": 37,
   "metadata": {},
   "outputs": [
    {
     "name": "stdout",
     "output_type": "stream",
     "text": [
      "Give me two numbers (or type q to quit).\n",
      "Number 1: Jesus\n",
      "Number 2: wept\n",
      "These are not two numbers.\n",
      "\n",
      "Give me two numbers (or type q to quit).\n",
      "Number 1: John\n",
      "Number 2: 1135\n",
      "These are not two numbers.\n",
      "\n",
      "Give me two numbers (or type q to quit).\n",
      "Number 1: 11\n",
      "Number 2: 35\n",
      "11 / 35 = 0.3142857142857143 \n",
      "\n",
      "Give me two numbers (or type q to quit).\n",
      "Number 1: 665\n",
      "Number 2: Q\n"
     ]
    }
   ],
   "source": [
    "import sys\n",
    "\n",
    "def is_number(check):\n",
    "    try:\n",
    "        float(check)\n",
    "        return True\n",
    "    except:\n",
    "        return False  \n",
    "\n",
    "def division(a, b):\n",
    "    try:\n",
    "        result = a/b\n",
    "    except:\n",
    "        result = 0\n",
    "        \n",
    "    return result\n",
    "\n",
    "\n",
    "while True:\n",
    "    print(\"Give me two numbers (or type q to quit).\")\n",
    "    num1 = input(\"Number 1: \")\n",
    "    if num1.lower() == 'q':\n",
    "        break\n",
    "    num2 = input(\"Number 2: \")\n",
    "    if num2.lower() == 'q':\n",
    "        break\n",
    "\n",
    "    if is_number(num1) and is_number(num2):\n",
    "        print(f\"{num1} / {num2} = {division(float(num1), float(num2))} \\n\")\n",
    "        \n",
    "    else :\n",
    "        print(\"These are not two numbers.\\n\")\n"
   ]
  },
  {
   "cell_type": "markdown",
   "metadata": {},
   "source": [
    "Exercise 8: Write a function to generate a multiplication table. Then write a program to ask a user if user wants to generate a  mutiplication table for a random number or provide a number. The program should continue to run until a user wants to quit."
   ]
  },
  {
   "cell_type": "code",
   "execution_count": 1,
   "metadata": {},
   "outputs": [
    {
     "name": "stdout",
     "output_type": "stream",
     "text": [
      "Would you like to create a multiplication table? (Type q any time to quit)\n",
      "Please give me a number, or type r to randomly choose between 1-100: R\n",
      "12 X 1 = 12\n",
      "12 X 2 = 24\n",
      "12 X 3 = 36\n",
      "12 X 4 = 48\n",
      "12 X 5 = 60\n",
      "12 X 6 = 72\n",
      "12 X 7 = 84\n",
      "12 X 8 = 96\n",
      "12 X 9 = 108\n",
      "\n",
      "Would you like to create a multiplication table? (Type q any time to quit)\n",
      "Please give me a number, or type r to randomly choose between 1-100: 15\n",
      "15.0 X 1 = 15.0\n",
      "15.0 X 2 = 30.0\n",
      "15.0 X 3 = 45.0\n",
      "15.0 X 4 = 60.0\n",
      "15.0 X 5 = 75.0\n",
      "15.0 X 6 = 90.0\n",
      "15.0 X 7 = 105.0\n",
      "15.0 X 8 = 120.0\n",
      "15.0 X 9 = 135.0\n",
      "\n",
      "Would you like to create a multiplication table? (Type q any time to quit)\n",
      "Please give me a number, or type r to randomly choose between 1-100: Q\n"
     ]
    }
   ],
   "source": [
    "import random as rand\n",
    "\n",
    "def multiplication_table(number):\n",
    "    i = 1\n",
    "    while i <= 9:\n",
    "        print(f\"{number} X {i} = {number * i}\")\n",
    "        i += 1\n",
    "    print(\"\")\n",
    "        \n",
    "generate = \"\"\n",
    "        \n",
    "while generate != 'q':        \n",
    "    print(\"Would you like to create a multiplication table? (Type q any time to quit)\")\n",
    "    generate = input(\"Please give me a number, or type r to randomly choose between 1-100: \")\n",
    "    \n",
    "    if generate.lower() == 'q' : \n",
    "        break\n",
    "    \n",
    "    elif generate.lower() == 'r' :\n",
    "        multiplication_table(rand.randint(1,100))\n",
    "        \n",
    "    else:\n",
    "        multiplication_table(float(generate))\n"
   ]
  },
  {
   "cell_type": "markdown",
   "metadata": {},
   "source": [
    "Exercise 9: Write a function to draw a right-triangle using a number as a character.Then, write a program to generate a random number between 1 and 9, call your function with that random number.  The output should look something like this:\n",
    "\n",
    "        base: 5\n",
    "        5\n",
    "        55\n",
    "        555\n",
    "        5555\n",
    "        55555\n",
    "\n",
    "\n",
    "        base: 8\n",
    "        8\n",
    "        88\n",
    "        888\n",
    "        8888\n",
    "        88888\n",
    "        888888\n",
    "        8888888\n",
    "        88888888"
   ]
  },
  {
   "cell_type": "code",
   "execution_count": 138,
   "metadata": {},
   "outputs": [
    {
     "name": "stdout",
     "output_type": "stream",
     "text": [
      "base: 8\n",
      "8\n",
      "88\n",
      "888\n",
      "8888\n",
      "88888\n",
      "888888\n",
      "8888888\n",
      "88888888\n"
     ]
    }
   ],
   "source": [
    "import random as rand\n",
    "\n",
    "def draw_right_triangle(number):\n",
    "    print(\"base:\", number)\n",
    "    i = 1\n",
    "    while i <= number:\n",
    "        print(str(number)*i)\n",
    "        i += 1\n",
    "\n",
    "draw_right_triangle(rand.randint(1,9))\n",
    "        "
   ]
  },
  {
   "cell_type": "markdown",
   "metadata": {},
   "source": [
    "Exercise 10: Modify function from exercise 9 to show output like this:\n",
    "\n",
    "        base: 5\n",
    "            5\n",
    "           55\n",
    "          555\n",
    "         5555 \n",
    "        55555\n",
    "        \n",
    "        base: 8\n",
    "               8\n",
    "              88\n",
    "             888\n",
    "            8888\n",
    "           88888\n",
    "          888888\n",
    "         8888888\n",
    "        88888888 "
   ]
  },
  {
   "cell_type": "code",
   "execution_count": 130,
   "metadata": {},
   "outputs": [
    {
     "name": "stdout",
     "output_type": "stream",
     "text": [
      "base: 7\n",
      "      7\n",
      "     77\n",
      "    777\n",
      "   7777\n",
      "  77777\n",
      " 777777\n",
      "7777777\n"
     ]
    }
   ],
   "source": [
    "import random as rand\n",
    "\n",
    "def draw_left_triangle(number):\n",
    "    print(\"base:\", number)\n",
    "    for i in range(1, number+1):\n",
    "        space = \" \" * (number-i)\n",
    "        print(space + str(number)*i)    \n",
    "\n",
    "draw_left_triangle(rand.randint(1,9))"
   ]
  }
 ],
 "metadata": {
  "kernelspec": {
   "display_name": "Python 3",
   "language": "python",
   "name": "python3"
  },
  "language_info": {
   "codemirror_mode": {
    "name": "ipython",
    "version": 3
   },
   "file_extension": ".py",
   "mimetype": "text/x-python",
   "name": "python",
   "nbconvert_exporter": "python",
   "pygments_lexer": "ipython3",
   "version": "3.8.3"
  }
 },
 "nbformat": 4,
 "nbformat_minor": 4
}
